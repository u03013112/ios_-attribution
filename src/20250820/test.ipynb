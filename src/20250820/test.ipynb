{
 "cells": [
  {
   "cell_type": "code",
   "execution_count": 0,
   "metadata": {
    "application/vnd.databricks.v1+cell": {
     "cellMetadata": {
      "byteLimit": 2048000,
      "implicitDf": true,
      "rowLimit": 10000
     },
     "collapsed": true,
     "inputWidgets": {},
     "nuid": "031e3d99-7fe3-4846-b0af-5210ec3fa55a",
     "showTitle": false,
     "tableResultSettingsMap": {},
     "title": ""
    }
   },
   "outputs": [],
   "source": [
    "%sql\n",
    "USE data_science.default"
   ]
  },
  {
   "cell_type": "markdown",
   "metadata": {
    "application/vnd.databricks.v1+cell": {
     "cellMetadata": {},
     "inputWidgets": {},
     "nuid": "085a0887-c389-491a-b077-51b4a2fa11e7",
     "showTitle": false,
     "tableResultSettingsMap": {},
     "title": ""
    }
   },
   "source": [
    "尝试从目前数据中获得尽可能多的特征：\n",
    "1、24小时内的付费次数、付费总金额，最大单次付费金额\n",
    "2、48小时内的付费次数、付费总金额，最大单次付费金额\n",
    "3、72小时内的付费次数、付费总金额，最大单次付费金额\n",
    "以及最终的结果：\n",
    "168小时付费金额\n",
    "\n",
    "创建一个view来方便后续快速获取数据,lw_20250820_aos_gpir_uid_revenue_view3_by_j\n",
    "\n",
    "这部分代码在serverless中运行，以便于快一点。"
   ]
  },
  {
   "cell_type": "code",
   "execution_count": 0,
   "metadata": {
    "application/vnd.databricks.v1+cell": {
     "cellMetadata": {
      "byteLimit": 2048000,
      "implicitDf": true,
      "rowLimit": 10000
     },
     "inputWidgets": {},
     "nuid": "e3f4bfbd-ae1e-4854-bd02-fb89756d27c1",
     "showTitle": false,
     "tableResultSettingsMap": {},
     "title": ""
    }
   },
   "outputs": [],
   "source": [
    "%sql\n",
    "CREATE OR REPLACE VIEW lw_20250820_aos_gpir_uid_revenue_view3_by_j AS\n",
    "select\n",
    "\tuid,\n",
    "\tinstall_day,\n",
    "\t-- country,\n",
    "\tcountry_group,\n",
    "\tCASE\n",
    "\t\tWHEN mediasource = 'applovin_int'\n",
    "\t\tAND UPPER(campaign_name) LIKE '%D7%' THEN 'applovin_int_d7'\n",
    "\t\tWHEN mediasource = 'applovin_int'\n",
    "\t\tAND UPPER(campaign_name) LIKE '%D28%' THEN 'applovin_int_d28'\n",
    "\t\tWHEN mediasource IN (\n",
    "\t\t\t'googleadwords_int',\n",
    "\t\t\t'Facebook Ads',\n",
    "\t\t\t'bytedanceglobal_int',\n",
    "\t\t\t'snapchat_int',\n",
    "\t\t\t'moloco_int'\n",
    "\t\t) THEN mediasource\n",
    "\t\tELSE 'other'\n",
    "\tEND as mediasource,\n",
    "\tcampaign_id,\n",
    "  -- campaign_name,\n",
    "\tpayment_count_24h,\n",
    "\trevenue_24h as revenue_24h,\n",
    "\tmax_payment_24h,\n",
    "\tpayment_count_48h,\n",
    "\trevenue_48h,\n",
    "\tmax_payment_48h,\n",
    "\tpayment_count_72h,\n",
    "\trevenue_72h as revenue_72h,\n",
    "\tmax_payment_72h,\n",
    "\trevenue_168h as revenue_d7\n",
    "from\n",
    "\t(\n",
    "\t\tselect\n",
    "\t\t\tt1.uid,\n",
    "\t\t\tt1.install_timestamp,\n",
    "\t\t\tdate_format(from_unixtime(t1.install_timestamp), 'yyyyMMdd') as install_day,\n",
    "\t\t\tt1.country,\n",
    "\t\t\tCOALESCE(cg.country_group, 'other') AS country_group,\n",
    "\t\t\tt1.mediasource,\n",
    "\t\t\tt1.campaign_id,\n",
    "      pub.campaign_name as campaign_name,\n",
    "\t\t\tcount(case when (t2.event_time / 1000 - t1.install_timestamp) between 0 and 24 * 60 * 60 then t2.revenue_value_usd end) as payment_count_24h,\n",
    "\t\t\tsum(case when (t2.event_time / 1000 - t1.install_timestamp) between 0 and 24 * 60 * 60 then t2.revenue_value_usd else 0 end) as revenue_24h,\n",
    "\t\t\tmax(case when (t2.event_time / 1000 - t1.install_timestamp) between 0 and 24 * 60 * 60 then t2.revenue_value_usd else 0 end) as max_payment_24h,\n",
    "\t\t\tcount(case when (t2.event_time / 1000 - t1.install_timestamp) between 0 and 48 * 60 * 60 then t2.revenue_value_usd end) as payment_count_48h,\n",
    "\t\t\tsum(case when (t2.event_time / 1000 - t1.install_timestamp) between 0 and 48 * 60 * 60 then t2.revenue_value_usd else 0 end) as revenue_48h,\n",
    "\t\t\tmax(case when (t2.event_time / 1000 - t1.install_timestamp) between 0 and 48 * 60 * 60 then t2.revenue_value_usd else 0 end) as max_payment_48h,\n",
    "\t\t\tcount(case when (t2.event_time / 1000 - t1.install_timestamp) between 0 and 72 * 60 * 60 then t2.revenue_value_usd end) as payment_count_72h,\n",
    "\t\t\tsum(case when (t2.event_time / 1000 - t1.install_timestamp) between 0 and 72 * 60 * 60 then t2.revenue_value_usd else 0 end) as revenue_72h,\n",
    "\t\t\tmax(case when (t2.event_time / 1000 - t1.install_timestamp) between 0 and 72 * 60 * 60 then t2.revenue_value_usd else 0 end) as max_payment_72h,\n",
    "\t\t\tsum(case when (t2.event_time / 1000 - t1.install_timestamp) between 0 and 168 * 60 * 60 then t2.revenue_value_usd else 0 end) as revenue_168h\n",
    "\t\tfrom\n",
    "\t\t\tmarketing.attribution.dws_overseas_gpir_unique_uid t1\n",
    "\t\t\tleft join marketing.attribution.dwd_overseas_revenue_allproject t2 on t1.app = t2.app\n",
    "\t\t\tand t1.uid = t2.uid\n",
    "\t\t\tLEFT JOIN lw_country_group_table_by_j_20250703 cg ON t1.country = cg.country\n",
    "\t\t\tLEFT JOIN (\n",
    "\t\t\t\tSELECT\n",
    "\t\t\t\t\tcampaign_id,\n",
    "\t\t\t\t\tMAX(campaign_name) AS campaign_name\n",
    "\t\t\t\tFROM\n",
    "\t\t\t\t\tprodb.public.applovin_campaign_info_new\n",
    "\t\t\t\tGROUP BY\n",
    "\t\t\t\t\tcampaign_id\n",
    "\t\t\t) pub ON t1.campaign_id = pub.campaign_id\n",
    "\t\twhere\n",
    "\t\t\tt1.app = 502\n",
    "\t\t\tand t1.app_package = 'com.fun.lastwar.gp'\n",
    "\t\tgroup by\n",
    "\t\t\tt1.uid,\n",
    "\t\t\tt1.install_timestamp,\n",
    "\t\t\tt1.country,\n",
    "\t\t\tCOALESCE(cg.country_group, 'other'),\n",
    "\t\t\tt1.mediasource,\n",
    "\t\t\tt1.campaign_id,\n",
    "\t\t\tpub.campaign_name\n",
    "\t)\n",
    "-- where\n",
    "-- \trevenue_168h > 0\n",
    "-- order by\n",
    "-- \trevenue_168h desc\n",
    ";"
   ]
  },
  {
   "cell_type": "code",
   "execution_count": 0,
   "metadata": {
    "application/vnd.databricks.v1+cell": {
     "cellMetadata": {
      "byteLimit": 2048000,
      "implicitDf": true,
      "rowLimit": 10000
     },
     "inputWidgets": {},
     "nuid": "bfd90cc2-1573-4c63-8c47-1078defd78bc",
     "showTitle": false,
     "tableResultSettingsMap": {},
     "title": ""
    }
   },
   "outputs": [],
   "source": [
    "%sql\n",
    "-- 删除现有VIEW\n",
    "DROP VIEW IF EXISTS lw_20250827_traindata_for_3p7_gbt_by_j;\n",
    "\n",
    "-- 创建物化表\n",
    "CREATE OR REPLACE TABLE lw_20250827_traindata_for_3p7_gbt_by_j\n",
    "USING DELTA  -- 使用Delta格式获得更好性能\n",
    "PARTITIONED BY (country_group)  -- 按country_group分区\n",
    "AS\n",
    "select\n",
    "  count(uid) as users,\n",
    "  country_group,\n",
    "  payment_count_24h,\n",
    "  ROUND(revenue_24h) as revenue_24h,\n",
    "  ROUND(max_payment_24h) as max_payment_24h,\n",
    "  payment_count_48h,\n",
    "  ROUND(revenue_48h) as revenue_48h,\n",
    "  ROUND(max_payment_48h) as max_payment_48h,\n",
    "  payment_count_72h,\n",
    "  ROUND(revenue_72h) as revenue_72h,\n",
    "  ROUND(max_payment_72h) as max_payment_72h,\n",
    "  ROUND(revenue_d7) as revenue_d7\n",
    "from lw_20250820_aos_gpir_uid_revenue_view3_by_j\n",
    "where install_day between 20250101 and 20250615\n",
    "GROUP BY\n",
    "  country_group,\n",
    "  payment_count_24h,\n",
    "  ROUND(revenue_24h),\n",
    "  ROUND(max_payment_24h),\n",
    "  payment_count_48h,\n",
    "  ROUND(revenue_48h),\n",
    "  ROUND(max_payment_48h),\n",
    "  payment_count_72h,\n",
    "  ROUND(revenue_72h),\n",
    "  ROUND(max_payment_72h),\n",
    "  ROUND(revenue_d7);\n",
    "\n",
    "-- 优化表统计信息\n",
    "ANALYZE TABLE lw_20250827_traindata_for_3p7_gbt_by_j COMPUTE STATISTICS;"
   ]
  },
  {
   "cell_type": "code",
   "execution_count": 0,
   "metadata": {
    "application/vnd.databricks.v1+cell": {
     "cellMetadata": {
      "byteLimit": 2048000,
      "implicitDf": true,
      "rowLimit": 10000
     },
     "inputWidgets": {},
     "nuid": "a5a522bf-7b87-4964-b57c-cd7d4ebfd0c9",
     "showTitle": false,
     "tableResultSettingsMap": {},
     "title": ""
    }
   },
   "outputs": [],
   "source": [
    "%sql\n",
    "select \n",
    "  users,\n",
    "  country_group,\n",
    "  payment_count_24h,\n",
    "  revenue_24h,\n",
    "  max_payment_24h,\n",
    "  payment_count_48h,\n",
    "  revenue_48h,\n",
    "  max_payment_48h,\n",
    "  payment_count_72h,\n",
    "  revenue_72h,\n",
    "  max_payment_72h,\n",
    "  revenue_d7\n",
    "from lw_20250827_traindata_for_3p7_gbt_by_j\n",
    "where country_group = 'US'\n",
    "and revenue_d7 = 0\n",
    ";"
   ]
  },
  {
   "cell_type": "markdown",
   "metadata": {
    "application/vnd.databricks.v1+cell": {
     "cellMetadata": {},
     "inputWidgets": {},
     "nuid": "66bee34f-b406-41d4-b305-47d1e91eab29",
     "showTitle": false,
     "tableResultSettingsMap": {},
     "title": ""
    }
   },
   "source": [
    "数据准备和探索"
   ]
  },
  {
   "cell_type": "code",
   "execution_count": 0,
   "metadata": {
    "application/vnd.databricks.v1+cell": {
     "cellMetadata": {
      "byteLimit": 2048000,
      "rowLimit": 10000
     },
     "inputWidgets": {},
     "nuid": "400be96d-1d42-4949-b714-0a49ac397680",
     "showTitle": false,
     "tableResultSettingsMap": {},
     "title": ""
    }
   },
   "outputs": [],
   "source": [
    "# 首先准备数据\n",
    "sql = '''\n",
    "select \n",
    "  users,\n",
    "  country_group,\n",
    "  payment_count_24h,\n",
    "  revenue_24h,\n",
    "  max_payment_24h,\n",
    "  payment_count_48h,\n",
    "  revenue_48h,\n",
    "  max_payment_48h,\n",
    "  payment_count_72h,\n",
    "  revenue_72h,\n",
    "  max_payment_72h,\n",
    "  revenue_d7\n",
    "from lw_20250827_traindata_for_3p7_gbt_by_j\n",
    "where revenue_d7 is not null  -- 确保目标变量不为空\n",
    "'''\n",
    "\n",
    "df = spark.sql(sql)\n",
    "\n",
    "# 检查数据基本信息\n",
    "print(\"=== 数据基本信息 ===\")\n",
    "print(f\"总行数: {df.count()}\")\n",
    "print(f\"总列数: {len(df.columns)}\")\n",
    "\n",
    "# 查看各country_group的数据分布\n",
    "print(\"\\n=== Country Group 分布 ===\")\n",
    "from pyspark.sql.functions import count, avg, stddev\n",
    "\n",
    "country_stats = df.groupBy(\"country_group\").agg(\n",
    "    count(\"*\").alias(\"sample_count\"),\n",
    "    avg(\"revenue_d7\").alias(\"avg_revenue_d7\"),\n",
    "    stddev(\"revenue_d7\").alias(\"std_revenue_d7\")\n",
    ").orderBy(\"sample_count\", ascending=False)\n",
    "\n",
    "display(country_stats)"
   ]
  },
  {
   "cell_type": "markdown",
   "metadata": {
    "application/vnd.databricks.v1+cell": {
     "cellMetadata": {},
     "inputWidgets": {},
     "nuid": "1732a7b3-ca57-4d1b-810f-5a0dc4144247",
     "showTitle": false,
     "tableResultSettingsMap": {},
     "title": ""
    }
   },
   "source": [
    "数据质量检查"
   ]
  },
  {
   "cell_type": "code",
   "execution_count": 0,
   "metadata": {
    "application/vnd.databricks.v1+cell": {
     "cellMetadata": {
      "byteLimit": 2048000,
      "rowLimit": 10000
     },
     "inputWidgets": {},
     "nuid": "51a7744d-6294-4261-be2f-300fe030badd",
     "showTitle": false,
     "tableResultSettingsMap": {},
     "title": ""
    }
   },
   "outputs": [],
   "source": [
    "# 检查空值和异常值\n",
    "print(\"=== 数据质量检查 ===\")\n",
    "\n",
    "# 检查空值\n",
    "from pyspark.sql.functions import col, count, when, isnan, isnull\n",
    "\n",
    "null_counts = df.select([\n",
    "    count(when(col(c).isNull() | isnan(col(c)), c)).alias(c) \n",
    "    for c in df.columns\n",
    "])\n",
    "print(\"空值统计:\")\n",
    "display(null_counts)\n",
    "\n",
    "# 检查基本统计信息\n",
    "print(\"\\n基本统计信息:\")\n",
    "display(df.describe())\n",
    "\n",
    "# 检查每个country_group的样本数量（确保有足够数据训练）\n",
    "min_samples_required = 100  # 设定最小样本数\n",
    "valid_countries = df.groupBy(\"country_group\").count().filter(col(\"count\") >= min_samples_required)\n",
    "print(f\"\\n样本数 >= {min_samples_required} 的country_group:\")\n",
    "display(valid_countries)"
   ]
  },
  {
   "cell_type": "markdown",
   "metadata": {
    "application/vnd.databricks.v1+cell": {
     "cellMetadata": {},
     "inputWidgets": {},
     "nuid": "4cfedf02-c365-404a-8eef-abdf40bc2d9f",
     "showTitle": false,
     "tableResultSettingsMap": {},
     "title": ""
    }
   },
   "source": [
    "定义训练函数"
   ]
  },
  {
   "cell_type": "code",
   "execution_count": 0,
   "metadata": {
    "application/vnd.databricks.v1+cell": {
     "cellMetadata": {
      "byteLimit": 2048000,
      "rowLimit": 10000
     },
     "inputWidgets": {},
     "nuid": "12059d41-e3d5-48c4-a96c-1af0b0126688",
     "showTitle": false,
     "tableResultSettingsMap": {},
     "title": ""
    }
   },
   "outputs": [],
   "source": [
    "from pyspark.ml.feature import VectorAssembler\n",
    "from pyspark.ml.regression import GBTRegressor\n",
    "from pyspark.ml.evaluation import RegressionEvaluator\n",
    "from pyspark.ml.tuning import CrossValidator, ParamGridBuilder\n",
    "from pyspark.ml import Pipeline\n",
    "import time\n",
    "\n",
    "def train_gbt_model_for_country(country_data, country_name):\n",
    "    \"\"\"\n",
    "    为单个country_group训练GBT模型\n",
    "    \"\"\"\n",
    "    print(f\"\\n{'='*50}\")\n",
    "    print(f\"开始训练 Country Group: {country_name}\")\n",
    "    print(f\"样本数量: {country_data.count()}\")\n",
    "    \n",
    "    # 定义特征列\n",
    "    feature_cols = [\n",
    "        'payment_count_24h', 'revenue_24h', 'max_payment_24h',\n",
    "        'payment_count_48h', 'revenue_48h', 'max_payment_48h', \n",
    "        'payment_count_72h', 'revenue_72h', 'max_payment_72h'\n",
    "    ]\n",
    "    \n",
    "    # 检查特征列是否存在\n",
    "    missing_cols = [col for col in feature_cols if col not in country_data.columns]\n",
    "    if missing_cols:\n",
    "        print(f\"警告: 缺少特征列 {missing_cols}\")\n",
    "        return None\n",
    "    \n",
    "    # 数据分割\n",
    "    train_data, test_data = country_data.randomSplit([0.8, 0.2], seed=42)\n",
    "    \n",
    "    print(f\"训练集样本数: {train_data.count()}\")\n",
    "    print(f\"测试集样本数: {test_data.count()}\")\n",
    "    \n",
    "    # 创建特征向量\n",
    "    vectorAssembler = VectorAssembler(\n",
    "        inputCols=feature_cols, \n",
    "        outputCol=\"features\"\n",
    "    )\n",
    "    \n",
    "    # 创建GBT回归器，使用users作为权重\n",
    "    gbt = GBTRegressor(\n",
    "        labelCol=\"revenue_d7\",\n",
    "        featuresCol=\"features\",\n",
    "        weightCol=\"users\",  # 使用users作为权重\n",
    "        maxIter=20,\n",
    "        maxDepth=5,\n",
    "        seed=42\n",
    "    )\n",
    "    \n",
    "    # 创建管道\n",
    "    pipeline = Pipeline(stages=[vectorAssembler, gbt])\n",
    "    \n",
    "    # 训练模型\n",
    "    start_time = time.time()\n",
    "    model = pipeline.fit(train_data)\n",
    "    training_time = time.time() - start_time\n",
    "    \n",
    "    print(f\"训练完成，耗时: {training_time:.2f} 秒\")\n",
    "    \n",
    "    # 预测和评估\n",
    "    predictions = model.transform(test_data)\n",
    "    \n",
    "    # 计算评估指标\n",
    "    evaluator_rmse = RegressionEvaluator(\n",
    "        labelCol=\"revenue_d7\", \n",
    "        predictionCol=\"prediction\", \n",
    "        metricName=\"rmse\"\n",
    "    )\n",
    "    \n",
    "    evaluator_mae = RegressionEvaluator(\n",
    "        labelCol=\"revenue_d7\", \n",
    "        predictionCol=\"prediction\", \n",
    "        metricName=\"mae\"\n",
    "    )\n",
    "    \n",
    "    evaluator_r2 = RegressionEvaluator(\n",
    "        labelCol=\"revenue_d7\", \n",
    "        predictionCol=\"prediction\", \n",
    "        metricName=\"r2\"\n",
    "    )\n",
    "    \n",
    "    rmse = evaluator_rmse.evaluate(predictions)\n",
    "    mae = evaluator_mae.evaluate(predictions)\n",
    "    r2 = evaluator_r2.evaluate(predictions)\n",
    "    \n",
    "    print(f\"模型评估结果:\")\n",
    "    print(f\"  RMSE: {rmse:.4f}\")\n",
    "    print(f\"  MAE: {mae:.4f}\")\n",
    "    print(f\"  R²: {r2:.4f}\")\n",
    "    \n",
    "    # 返回结果\n",
    "    return {\n",
    "        'country_group': country_name,\n",
    "        'model': model,\n",
    "        'rmse': rmse,\n",
    "        'mae': mae,\n",
    "        'r2': r2,\n",
    "        'training_time': training_time,\n",
    "        'train_samples': train_data.count(),\n",
    "        'test_samples': test_data.count(),\n",
    "        'predictions': predictions\n",
    "    }"
   ]
  },
  {
   "cell_type": "markdown",
   "metadata": {
    "application/vnd.databricks.v1+cell": {
     "cellMetadata": {},
     "inputWidgets": {},
     "nuid": "b2f17b82-8728-4ea8-9120-2f7e3106d610",
     "showTitle": false,
     "tableResultSettingsMap": {},
     "title": ""
    }
   },
   "source": [
    "批量训练模型"
   ]
  },
  {
   "cell_type": "code",
   "execution_count": 0,
   "metadata": {
    "application/vnd.databricks.v1+cell": {
     "cellMetadata": {
      "byteLimit": 2048000,
      "rowLimit": 10000
     },
     "inputWidgets": {},
     "nuid": "6a1241be-71ad-4409-b6c1-e0eb34301f6e",
     "showTitle": false,
     "tableResultSettingsMap": {},
     "title": ""
    }
   },
   "outputs": [],
   "source": [
    "# 获取所有country_group\n",
    "countries = df.select(\"country_group\").distinct().rdd.map(lambda row: row[0]).collect()\n",
    "print(f\"需要训练的country_group数量: {len(countries)}\")\n",
    "print(f\"Country groups: {countries}\")\n",
    "\n",
    "# 存储所有模型结果\n",
    "model_results = {}\n",
    "training_summary = []\n",
    "\n",
    "# 逐个训练模型\n",
    "for i, country in enumerate(countries, 1):\n",
    "    print(f\"\\n进度: {i}/{len(countries)}\")\n",
    "    \n",
    "    try:\n",
    "        # 过滤当前country的数据\n",
    "        country_data = df.filter(col(\"country_group\") == country)\n",
    "        \n",
    "        # 检查样本数量\n",
    "        sample_count = country_data.count()\n",
    "        if sample_count < 50:  # 设定最小样本数阈值\n",
    "            print(f\"跳过 {country}: 样本数太少 ({sample_count})\")\n",
    "            continue\n",
    "        \n",
    "        # 训练模型\n",
    "        result = train_gbt_model_for_country(country_data, country)\n",
    "        \n",
    "        if result:\n",
    "            model_results[country] = result\n",
    "            training_summary.append({\n",
    "                'country_group': country,\n",
    "                'rmse': result['rmse'],\n",
    "                'mae': result['mae'],\n",
    "                'r2': result['r2'],\n",
    "                'training_time': result['training_time'],\n",
    "                'train_samples': result['train_samples'],\n",
    "                'test_samples': result['test_samples']\n",
    "            })\n",
    "            \n",
    "            print(f\"✅ {country} 训练成功\")\n",
    "        else:\n",
    "            print(f\"❌ {country} 训练失败\")\n",
    "            \n",
    "    except Exception as e:\n",
    "        print(f\"❌ {country} 训练出错: {str(e)}\")\n",
    "        continue\n",
    "    \n",
    "    # 每训练5个模型后显示进度摘要\n",
    "    if i % 5 == 0:\n",
    "        print(f\"\\n--- 进度摘要 (已完成 {len(model_results)}/{i}) ---\")\n",
    "        if training_summary:\n",
    "            avg_rmse = sum([r['rmse'] for r in training_summary]) / len(training_summary)\n",
    "            avg_r2 = sum([r['r2'] for r in training_summary]) / len(training_summary)\n",
    "            print(f\"平均 RMSE: {avg_rmse:.4f}\")\n",
    "            print(f\"平均 R²: {avg_r2:.4f}\")\n",
    "\n",
    "print(f\"\\n🎉 所有训练完成! 成功训练了 {len(model_results)} 个模型\")"
   ]
  },
  {
   "cell_type": "markdown",
   "metadata": {
    "application/vnd.databricks.v1+cell": {
     "cellMetadata": {},
     "inputWidgets": {},
     "nuid": "ff3e1e84-18f2-4118-aebc-54188a383a26",
     "showTitle": false,
     "tableResultSettingsMap": {},
     "title": ""
    }
   },
   "source": [
    "训练结果汇总"
   ]
  },
  {
   "cell_type": "code",
   "execution_count": 0,
   "metadata": {
    "application/vnd.databricks.v1+cell": {
     "cellMetadata": {
      "byteLimit": 2048000,
      "rowLimit": 10000
     },
     "inputWidgets": {},
     "nuid": "fb27314c-6ba8-48cf-8590-006a79d8a0e9",
     "showTitle": false,
     "tableResultSettingsMap": {},
     "title": ""
    }
   },
   "outputs": [],
   "source": [
    "# 创建训练结果汇总表\n",
    "if training_summary:\n",
    "    summary_df = spark.createDataFrame(training_summary)\n",
    "    \n",
    "    print(\"=== 训练结果汇总 ===\")\n",
    "    display(summary_df.orderBy(\"r2\", ascending=False))\n",
    "    \n",
    "    # 计算整体统计\n",
    "    print(\"\\n=== 整体统计 ===\")\n",
    "    summary_stats = summary_df.agg(\n",
    "        avg(\"rmse\").alias(\"avg_rmse\"),\n",
    "        avg(\"mae\").alias(\"avg_mae\"), \n",
    "        avg(\"r2\").alias(\"avg_r2\"),\n",
    "        avg(\"training_time\").alias(\"avg_training_time\")\n",
    "    )\n",
    "    display(summary_stats)\n",
    "    \n",
    "    # 找出表现最好和最差的模型\n",
    "    best_model = summary_df.orderBy(\"r2\", ascending=False).first()\n",
    "    worst_model = summary_df.orderBy(\"r2\", ascending=True).first()\n",
    "    \n",
    "    print(f\"\\n表现最好的模型: {best_model['country_group']} (R² = {best_model['r2']:.4f})\")\n",
    "    print(f\"表现最差的模型: {worst_model['country_group']} (R² = {worst_model['r2']:.4f})\")"
   ]
  },
  {
   "cell_type": "markdown",
   "metadata": {
    "application/vnd.databricks.v1+cell": {
     "cellMetadata": {},
     "inputWidgets": {},
     "nuid": "dd69d8ea-063a-4c41-9dc5-fce08487de64",
     "showTitle": false,
     "tableResultSettingsMap": {},
     "title": ""
    }
   },
   "source": [
    "生成预测结果表"
   ]
  },
  {
   "cell_type": "code",
   "execution_count": 0,
   "metadata": {
    "application/vnd.databricks.v1+cell": {
     "cellMetadata": {
      "byteLimit": 2048000,
      "rowLimit": 10000
     },
     "inputWidgets": {},
     "nuid": "a4559d1b-d96f-4ea3-abe8-0024dc4619e2",
     "showTitle": false,
     "tableResultSettingsMap": {},
     "title": ""
    }
   },
   "outputs": [],
   "source": [
    "# 使用训练好的模型对汇总数据进行预测\n",
    "def generate_predictions_for_all_countries(model_results, df):\n",
    "    \"\"\"\n",
    "    使用所有训练好的模型生成预测结果\n",
    "    \"\"\"\n",
    "    all_predictions = []\n",
    "    \n",
    "    for country, model_info in model_results.items():\n",
    "        print(f\"正在为 {country} 生成预测...\")\n",
    "        \n",
    "        # 获取该country的数据\n",
    "        country_data = df.filter(col(\"country_group\") == country)\n",
    "        \n",
    "        if country_data.count() == 0:\n",
    "            print(f\"跳过 {country}: 无数据\")\n",
    "            continue\n",
    "            \n",
    "        try:\n",
    "            # 使用模型进行预测\n",
    "            predictions = model_info['model'].transform(country_data)\n",
    "            \n",
    "            # 选择需要的列，包括预测结果\n",
    "            result = predictions.select(\n",
    "                \"country_group\",\n",
    "                \"users\", \n",
    "                \"payment_count_24h\", \"revenue_24h\", \"max_payment_24h\",\n",
    "                \"payment_count_48h\", \"revenue_48h\", \"max_payment_48h\", \n",
    "                \"payment_count_72h\", \"revenue_72h\", \"max_payment_72h\",\n",
    "                \"revenue_d7\",  # 实际值\n",
    "                col(\"prediction\").alias(\"predicted_revenue_d7\")  # 预测值\n",
    "            )\n",
    "            \n",
    "            all_predictions.append(result)\n",
    "            print(f\"✅ {country} 预测完成，样本数: {result.count()}\")\n",
    "            \n",
    "        except Exception as e:\n",
    "            print(f\"❌ {country} 预测失败: {str(e)}\")\n",
    "            continue\n",
    "    \n",
    "    # 合并所有预测结果\n",
    "    if all_predictions:\n",
    "        final_predictions = all_predictions[0]\n",
    "        for pred in all_predictions[1:]:\n",
    "            final_predictions = final_predictions.union(pred)\n",
    "        \n",
    "        return final_predictions\n",
    "    else:\n",
    "        return None\n",
    "\n",
    "# 生成预测结果\n",
    "print(\"开始生成所有country的预测结果...\")\n",
    "predictions_df = generate_predictions_for_all_countries(model_results, df)\n",
    "\n",
    "if predictions_df:\n",
    "    print(f\"预测结果生成完成，总样本数: {predictions_df.count()}\")\n",
    "    \n",
    "    # 查看预测结果样例\n",
    "    print(\"\\n预测结果样例:\")\n",
    "    display(predictions_df.head(10))\n",
    "else:\n",
    "    print(\"预测结果生成失败\")"
   ]
  },
  {
   "cell_type": "code",
   "execution_count": 0,
   "metadata": {
    "application/vnd.databricks.v1+cell": {
     "cellMetadata": {
      "byteLimit": 2048000,
      "rowLimit": 10000
     },
     "inputWidgets": {},
     "nuid": "e8020d4e-6dfd-4fd4-abcd-51dedd4022a5",
     "showTitle": false,
     "tableResultSettingsMap": {},
     "title": ""
    }
   },
   "outputs": [],
   "source": [
    "# 注册为临时视图\n",
    "predictions_df.createOrReplaceTempView(\"temp_predictions\")"
   ]
  },
  {
   "cell_type": "code",
   "execution_count": 0,
   "metadata": {
    "application/vnd.databricks.v1+cell": {
     "cellMetadata": {
      "byteLimit": 2048000,
      "implicitDf": true,
      "rowLimit": 10000
     },
     "inputWidgets": {},
     "nuid": "36d55d47-6959-4474-9e42-0f8c27d5269e",
     "showTitle": false,
     "tableResultSettingsMap": {},
     "title": ""
    }
   },
   "outputs": [],
   "source": [
    "%sql\n",
    "-- 创建预测结果物化表\n",
    "CREATE OR REPLACE TABLE lw_20250827_gbt_predictions_by_j\n",
    "USING DELTA\n",
    "PARTITIONED BY (country_group)\n",
    "AS\n",
    "SELECT \n",
    "  country_group,\n",
    "  users,\n",
    "  payment_count_24h,\n",
    "  revenue_24h,\n",
    "  max_payment_24h,\n",
    "  payment_count_48h,\n",
    "  revenue_48h,\n",
    "  max_payment_48h,\n",
    "  payment_count_72h,\n",
    "  revenue_72h,\n",
    "  max_payment_72h,\n",
    "  revenue_d7 as actual_revenue_d7,\n",
    "  predicted_revenue_d7,\n",
    "  (predicted_revenue_d7 - revenue_d7) as prediction_error,\n",
    "  abs(predicted_revenue_d7 - revenue_d7) as abs_prediction_error,\n",
    "  CASE \n",
    "    WHEN revenue_d7 > 0 THEN abs(predicted_revenue_d7 - revenue_d7) / revenue_d7 * 100\n",
    "    ELSE NULL \n",
    "  END as percentage_error\n",
    "FROM temp_predictions;\n",
    "\n",
    "-- 优化表\n",
    "ANALYZE TABLE lw_20250827_gbt_predictions_by_j COMPUTE STATISTICS;\n",
    "\n",
    "-- 查看预测结果概览\n",
    "SELECT \n",
    "  country_group,\n",
    "  COUNT(*) as sample_count,\n",
    "  AVG(actual_revenue_d7) as avg_actual_revenue,\n",
    "  AVG(predicted_revenue_d7) as avg_predicted_revenue,\n",
    "  AVG(prediction_error) as avg_error,\n",
    "  AVG(abs_prediction_error) as avg_abs_error,\n",
    "  AVG(percentage_error) as avg_percentage_error\n",
    "FROM lw_20250827_gbt_predictions_by_j\n",
    "GROUP BY country_group\n",
    "ORDER BY sample_count DESC;"
   ]
  },
  {
   "cell_type": "code",
   "execution_count": 0,
   "metadata": {
    "application/vnd.databricks.v1+cell": {
     "cellMetadata": {
      "byteLimit": 2048000,
      "implicitDf": true,
      "rowLimit": 10000
     },
     "inputWidgets": {},
     "nuid": "f6be9620-6a60-4898-9c82-28ac7cbc34d6",
     "showTitle": false,
     "tableResultSettingsMap": {},
     "title": ""
    }
   },
   "outputs": [],
   "source": [
    "%sql\n",
    "-- 创建用户级别的预测结果表\n",
    "-- 将汇总预测结果分配回原始用户\n",
    "CREATE OR REPLACE TABLE lw_20250827_user_level_predictions_by_j\n",
    "USING DELTA\n",
    "PARTITIONED BY (country_group, install_day)\n",
    "AS\n",
    "WITH user_predictions AS (\n",
    "  SELECT \n",
    "    o.uid,\n",
    "    o.country_group,\n",
    "    o.install_day,\n",
    "    o.payment_count_24h,\n",
    "    o.revenue_24h,\n",
    "    o.max_payment_24h,\n",
    "    o.payment_count_48h,\n",
    "    o.revenue_48h,\n",
    "    o.max_payment_48h,\n",
    "    o.payment_count_72h,\n",
    "    o.revenue_72h,\n",
    "    o.max_payment_72h,\n",
    "    o.revenue_d7 as actual_revenue_d7,\n",
    "    p.predicted_revenue_d7,\n",
    "    p.users as group_size,\n",
    "    -- 按用户在组内的实际收入比例分配预测收入\n",
    "    CASE \n",
    "      WHEN p.actual_revenue_d7 > 0 \n",
    "      THEN p.predicted_revenue_d7 * (o.revenue_d7 / p.actual_revenue_d7)\n",
    "      ELSE p.predicted_revenue_d7 / p.users  -- 如果组内总收入为0，平均分配\n",
    "    END as user_predicted_revenue_d7\n",
    "  FROM lw_20250820_aos_gpir_uid_revenue_view3_by_j o\n",
    "  INNER JOIN lw_20250827_gbt_predictions_by_j p\n",
    "    ON o.country_group = p.country_group\n",
    "    AND o.payment_count_24h = p.payment_count_24h\n",
    "    AND ROUND(o.revenue_24h) = p.revenue_24h\n",
    "    AND ROUND(o.max_payment_24h) = p.max_payment_24h\n",
    "    AND o.payment_count_48h = p.payment_count_48h\n",
    "    AND ROUND(o.revenue_48h) = p.revenue_48h\n",
    "    AND ROUND(o.max_payment_48h) = p.max_payment_48h\n",
    "    AND o.payment_count_72h = p.payment_count_72h\n",
    "    AND ROUND(o.revenue_72h) = p.revenue_72h\n",
    "    AND ROUND(o.max_payment_72h) = p.max_payment_72h\n",
    "    AND ROUND(o.revenue_d7) = p.actual_revenue_d7\n",
    "  WHERE o.install_day BETWEEN 20250101 AND 20250615\n",
    ")\n",
    "SELECT \n",
    "  *,\n",
    "  (user_predicted_revenue_d7 - actual_revenue_d7) as user_prediction_error,\n",
    "  abs(user_predicted_revenue_d7 - actual_revenue_d7) as user_abs_error,\n",
    "  CASE \n",
    "    WHEN actual_revenue_d7 > 0 \n",
    "    THEN abs(user_predicted_revenue_d7 - actual_revenue_d7) / actual_revenue_d7 * 100\n",
    "    ELSE NULL \n",
    "  END as user_percentage_error\n",
    "FROM user_predictions;\n",
    "\n",
    "-- 优化表\n",
    "ANALYZE TABLE lw_20250827_user_level_predictions_by_j COMPUTE STATISTICS;"
   ]
  },
  {
   "cell_type": "code",
   "execution_count": 0,
   "metadata": {
    "application/vnd.databricks.v1+cell": {
     "cellMetadata": {
      "byteLimit": 2048000,
      "implicitDf": true,
      "rowLimit": 10000
     },
     "inputWidgets": {},
     "nuid": "b4ef7876-cede-4150-a177-76b4a69552a0",
     "showTitle": false,
     "tableResultSettingsMap": {},
     "title": ""
    }
   },
   "outputs": [],
   "source": [
    "%sql\n",
    "select * from lw_20250827_user_level_predictions_by_j\n",
    "limit 100\n",
    ";"
   ]
  },
  {
   "cell_type": "markdown",
   "metadata": {
    "application/vnd.databricks.v1+cell": {
     "cellMetadata": {},
     "inputWidgets": {},
     "nuid": "c8728662-ad50-427d-a10d-3f1f8560f763",
     "showTitle": false,
     "tableResultSettingsMap": {},
     "title": ""
    }
   },
   "source": [
    "汇总按照国家计算MAPE"
   ]
  },
  {
   "cell_type": "code",
   "execution_count": 0,
   "metadata": {
    "application/vnd.databricks.v1+cell": {
     "cellMetadata": {
      "byteLimit": 2048000,
      "implicitDf": true,
      "rowLimit": 10000
     },
     "inputWidgets": {},
     "nuid": "3e5cfb88-57f6-43b4-afd5-2d92a470be39",
     "showTitle": false,
     "tableResultSettingsMap": {},
     "title": ""
    }
   },
   "outputs": [],
   "source": [
    "%sql\n",
    "-- 按天计算，再计算MAPE\n",
    "WITH daily_country_revenue AS (\n",
    "  -- 第一步：按国家和日期分组，汇总收入\n",
    "  SELECT \n",
    "    country_group,\n",
    "    install_day,\n",
    "    SUM(user_predicted_revenue_d7) as daily_predicted_revenue,\n",
    "    SUM(actual_revenue_d7) as daily_actual_revenue\n",
    "  FROM lw_20250827_user_level_predictions_by_j\n",
    "  GROUP BY country_group, install_day\n",
    "  HAVING SUM(actual_revenue_d7) > 0  -- 确保当天有实际收入\n",
    "),\n",
    "\n",
    "daily_country_mape AS (\n",
    "  -- 第二步：基于汇总收入计算每天的APE\n",
    "  SELECT \n",
    "    country_group,\n",
    "    install_day,\n",
    "    ABS(daily_predicted_revenue - daily_actual_revenue) / daily_actual_revenue * 100 as daily_ape\n",
    "  FROM daily_country_revenue\n",
    ")\n",
    "\n",
    "-- 第三步：计算每个国家的MAPE（各天APE的平均）\n",
    "SELECT \n",
    "  country_group,\n",
    "  ROUND(AVG(daily_ape), 4) as mape\n",
    "FROM daily_country_mape\n",
    "GROUP BY country_group\n",
    "ORDER BY mape ASC;"
   ]
  },
  {
   "cell_type": "code",
   "execution_count": 0,
   "metadata": {
    "application/vnd.databricks.v1+cell": {
     "cellMetadata": {
      "byteLimit": 2048000,
      "implicitDf": true,
      "rowLimit": 10000
     },
     "inputWidgets": {},
     "nuid": "13ede4dc-5fa1-43a9-bfa5-bb220588eb6d",
     "showTitle": false,
     "tableResultSettingsMap": {},
     "title": ""
    }
   },
   "outputs": [],
   "source": [
    "%sql\n",
    "-- 按周计算MAPE\n",
    "WITH weekly_country_revenue AS (\n",
    "  -- 第一步：按国家和周分组，汇总收入\n",
    "  SELECT \n",
    "    country_group,\n",
    "    -- 计算周数：基于install_day计算是第几周\n",
    "    CONCAT(\n",
    "      SUBSTR(install_day, 1, 4), \n",
    "      '-W', \n",
    "      LPAD(WEEKOFYEAR(TO_DATE(install_day, 'yyyyMMdd')), 2, '0')\n",
    "    ) as install_week,\n",
    "    SUM(user_predicted_revenue_d7) as weekly_predicted_revenue,\n",
    "    SUM(actual_revenue_d7) as weekly_actual_revenue\n",
    "  FROM lw_20250827_user_level_predictions_by_j\n",
    "  GROUP BY \n",
    "    country_group,\n",
    "    CONCAT(\n",
    "      SUBSTR(install_day, 1, 4), \n",
    "      '-W', \n",
    "      LPAD(WEEKOFYEAR(TO_DATE(install_day, 'yyyyMMdd')), 2, '0')\n",
    "    )\n",
    "  HAVING SUM(actual_revenue_d7) > 0  -- 确保当周有实际收入\n",
    "),\n",
    "\n",
    "weekly_country_mape AS (\n",
    "  -- 第二步：基于汇总收入计算每周的APE\n",
    "  SELECT \n",
    "    country_group,\n",
    "    install_week,\n",
    "    ABS(weekly_predicted_revenue - weekly_actual_revenue) / weekly_actual_revenue * 100 as weekly_ape\n",
    "  FROM weekly_country_revenue\n",
    ")\n",
    "\n",
    "-- 第三步：计算每个国家的MAPE（各周APE的平均）\n",
    "SELECT \n",
    "  country_group,\n",
    "  ROUND(AVG(weekly_ape), 4) as weekly_mape\n",
    "FROM weekly_country_mape\n",
    "GROUP BY country_group\n",
    "ORDER BY weekly_mape ASC;"
   ]
  },
  {
   "cell_type": "markdown",
   "metadata": {
    "application/vnd.databricks.v1+cell": {
     "cellMetadata": {},
     "inputWidgets": {},
     "nuid": "18e98c7f-fe12-4296-8017-0eb9c2d3bd8e",
     "showTitle": false,
     "tableResultSettingsMap": {},
     "title": ""
    }
   },
   "source": [
    "分媒体 按天、按周"
   ]
  },
  {
   "cell_type": "code",
   "execution_count": 0,
   "metadata": {
    "application/vnd.databricks.v1+cell": {
     "cellMetadata": {},
     "inputWidgets": {},
     "nuid": "6a9731ad-b821-436c-9964-94f3021783b1",
     "showTitle": false,
     "tableResultSettingsMap": {},
     "title": ""
    }
   },
   "outputs": [],
   "source": [
    "%sql\n",
    "-- 简化版：只返回国家、媒体和MAPE\n",
    "WITH daily_country_media_revenue AS (\n",
    "  SELECT \n",
    "    p.country_group,\n",
    "    p.install_day,\n",
    "    o.mediasource as mediasource_corrected,\n",
    "    SUM(p.user_predicted_revenue_d7) as daily_predicted_revenue,\n",
    "    SUM(p.actual_revenue_d7) as daily_actual_revenue\n",
    "  FROM `data_science`.`default`.lw_20250827_user_level_predictions_by_j p\n",
    "  LEFT JOIN `data_science`.`default`.lw_20250820_aos_gpir_uid_revenue_view3_by_j o\n",
    "    ON p.uid = o.uid\n",
    "  WHERE o.mediasource IS NOT NULL\n",
    "  GROUP BY p.country_group, p.install_day, o.mediasource\n",
    "  HAVING SUM(p.actual_revenue_d7) > 0\n",
    "),daily_country_media_mape AS (\n",
    "  SELECT \n",
    "    country_group,\n",
    "    mediasource_corrected,\n",
    "    install_day,\n",
    "    ABS(daily_predicted_revenue - daily_actual_revenue) / daily_actual_revenue * 100 as daily_ape\n",
    "  FROM daily_country_media_revenue\n",
    ")SELECT \n",
    "  country_group,\n",
    "  mediasource_corrected,\n",
    "  ROUND(AVG(daily_ape), 4) as mape\n",
    "FROM daily_country_media_mape\n",
    "GROUP BY country_group, mediasource_corrected\n",
    "ORDER BY country_group, mediasource_corrected;"
   ]
  },
  {
   "cell_type": "code",
   "execution_count": 0,
   "metadata": {
    "application/vnd.databricks.v1+cell": {
     "cellMetadata": {},
     "inputWidgets": {},
     "nuid": "7b40c87a-1c13-4579-bf52-3f454161da2a",
     "showTitle": false,
     "tableResultSettingsMap": {},
     "title": ""
    }
   },
   "outputs": [],
   "source": [
    "%sql\n",
    "-- 按周计算国家+媒体维度的MAPE\n",
    "WITH weekly_country_media_revenue AS (\n",
    "  SELECT \n",
    "    p.country_group,\n",
    "    -- 计算周数：基于install_day计算是第几周\n",
    "    CONCAT(\n",
    "      SUBSTR(p.install_day, 1, 4), \n",
    "      '-W', \n",
    "      LPAD(WEEKOFYEAR(TO_DATE(p.install_day, 'yyyyMMdd')), 2, '0')\n",
    "    ) as install_week,\n",
    "    o.mediasource as mediasource_corrected,\n",
    "    SUM(p.user_predicted_revenue_d7) as weekly_predicted_revenue,\n",
    "    SUM(p.actual_revenue_d7) as weekly_actual_revenue\n",
    "  FROM `data_science`.`default`.lw_20250827_user_level_predictions_by_j p\n",
    "  LEFT JOIN `data_science`.`default`.lw_20250820_aos_gpir_uid_revenue_view3_by_j o\n",
    "    ON p.uid = o.uid\n",
    "  WHERE o.mediasource IS NOT NULL\n",
    "  GROUP BY \n",
    "    p.country_group, \n",
    "    CONCAT(\n",
    "      SUBSTR(p.install_day, 1, 4), \n",
    "      '-W', \n",
    "      LPAD(WEEKOFYEAR(TO_DATE(p.install_day, 'yyyyMMdd')), 2, '0')\n",
    "    ),\n",
    "    o.mediasource\n",
    "  HAVING SUM(p.actual_revenue_d7) > 0\n",
    "),\n",
    "\n",
    "weekly_country_media_mape AS (\n",
    "  SELECT \n",
    "    country_group,\n",
    "    mediasource_corrected,\n",
    "    install_week,\n",
    "    ABS(weekly_predicted_revenue - weekly_actual_revenue) / weekly_actual_revenue * 100 as weekly_ape\n",
    "  FROM weekly_country_media_revenue\n",
    ")\n",
    "\n",
    "SELECT \n",
    "  country_group,\n",
    "  mediasource_corrected,\n",
    "  ROUND(AVG(weekly_ape), 4) as weekly_mape\n",
    "FROM weekly_country_media_mape\n",
    "GROUP BY country_group, mediasource_corrected\n",
    "ORDER BY country_group, mediasource_corrected;"
   ]
  }
 ],
 "metadata": {
  "application/vnd.databricks.v1+notebook": {
   "computePreferences": {
    "hardware": {
     "accelerator": null,
     "gpuPoolId": null,
     "memory": null
    }
   },
   "dashboards": [],
   "environmentMetadata": {
    "base_environment": "",
    "environment_version": "3"
   },
   "inputWidgetPreferences": null,
   "language": "python",
   "notebookMetadata": {
    "mostRecentlyExecutedCommandWithImplicitDF": {
     "commandId": 6095524550829894,
     "dataframes": [
      "_sqldf"
     ]
    },
    "pythonIndentUnit": 4
   },
   "notebookName": "test",
   "widgets": {}
  },
  "language_info": {
   "name": "python"
  }
 },
 "nbformat": 4,
 "nbformat_minor": 0
}
