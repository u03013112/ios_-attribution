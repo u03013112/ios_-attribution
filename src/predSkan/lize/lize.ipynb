{
 "cells": [
  {
   "attachments": {},
   "cell_type": "markdown",
   "metadata": {},
   "source": [
    "# 响应郦泽的需求\n",
    "> 要求如下:  \n",
    ">> 1、CV 需要可以反应首日真实收入，但是可以一定程度的容忍误差。   \n",
    ">> 2、每一种CV可以相对准确的预测到7日付费，可能是增长倍率，可能是推算公式。   \n",
    ">> 3、隐身第2点，可能新的CV可以尽量准确的推算出7日付费即可，这有点类似之前的预测。    \n",
    ">> 4、验收标准：cv反应真实收日收入的程度；在安卓，iOS中7日回收预测大盘的收入评估；在安卓分媒体7日回收。   "
   ]
  },
  {
   "attachments": {},
   "cell_type": "markdown",
   "metadata": {},
   "source": [
    "# 思路步骤\n",
    "> 建立验收体系\n",
    ">> 1、验收CV方案，CV->首日回收的方案（比如是个映射表），计算MAPE和R2并形成文档    \n",
    ">> 2、验收方案对应的安卓大盘或iOS大盘的7日收入评估。为了保持一致，可采用7日合线或者均线。指标暂定MAPE与R2。    \n",
    ">> 3、验收安卓分媒体7日收入，媒体选用安卓中比较主流的4个媒体：Applovin、字节、FB、GG。指标也暂定MAPE与R2。    \n",
    "\n",
    "> 基础方案\n",
    ">> 1、按照纯首日回收金额做CV   \n",
    ">> 2、按照此CV获得用户7日收入，并获得收入平均值   \n",
    ">> 3、进行验收   \n",
    "\n",
    "> 进阶方案   \n",
    ">> 后续不断补充尝试"
   ]
  },
  {
   "attachments": {},
   "cell_type": "markdown",
   "metadata": {},
   "source": [
    "额外的思考：   \n",
    "之前的个人预测已经很准了，大盘到达5%\n",
    "但是他不能有效的反应首日回收金额。\n",
    "\n",
    "是否有一种可能是"
   ]
  }
 ],
 "metadata": {
  "kernelspec": {
   "display_name": "Python 3.9.5 64-bit ('3.9.5')",
   "language": "python",
   "name": "python3"
  },
  "language_info": {
   "name": "python",
   "version": "3.9.5"
  },
  "orig_nbformat": 4,
  "vscode": {
   "interpreter": {
    "hash": "5ddbb1e7c0f5392e763e7ed0105eea523a83d8be62b40910beaeae08f4eab658"
   }
  }
 },
 "nbformat": 4,
 "nbformat_minor": 2
}
