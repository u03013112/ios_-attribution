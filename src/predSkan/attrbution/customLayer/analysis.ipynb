{
 "cells": [
  {
   "attachments": {},
   "cell_type": "markdown",
   "metadata": {},
   "source": [
    "> 分析各种方案最后生成的reportTotalDf.csv\n",
    ">> 分析各媒体的R7 MAPE（按天，按月）   \n",
    ">> 分析各媒体的增长倍率MAPE（按天，按月）   \n",
    ">> 分析各媒体的首日、7日回收 方差   \n",
    ">> 分析各媒体的首日、7日回收占比 方差   \n",
    "\n",
    "`jupyter-lab --allow-root --ip 192.168.40.62`\n"
   ]
  },
  {
   "cell_type": "code",
   "execution_count": null,
   "metadata": {},
   "outputs": [],
   "source": [
    "import pandas as pd\n",
    "import numpy as np\n",
    "\n",
    "import os\n",
    "# import sys\n",
    "# sys.path.append('/src')\n"
   ]
  },
  {
   "cell_type": "code",
   "execution_count": null,
   "metadata": {},
   "outputs": [],
   "source": [
    "def getFilename(filename):\n",
    "    return '/src/data/customLayer/%s.csv'%(filename)"
   ]
  },
  {
   "cell_type": "code",
   "execution_count": null,
   "metadata": {},
   "outputs": [],
   "source": [
    "mediaList = [\n",
    "    {'name':'bytedance','codeList':['bytedanceglobal_int'],'sname':'Bd'},\n",
    "    {'name':'facebook','codeList':['Social_facebook','restricted','Facebook Ads','facebook','FacebookAds'],'sname':'Fb'},\n",
    "    {'name':'google','codeList':['googleadwords_int'],'sname':'Gg'},\n",
    "    {'name':'unknown','codeList':[],'sname':'Og'}\n",
    "]"
   ]
  },
  {
   "cell_type": "code",
   "execution_count": null,
   "metadata": {},
   "outputs": [],
   "source": [
    "iosMediaList = [\n",
    "    {'name':'applovin','codeList':['applovin_int'],'sname':'Al'},\n",
    "    {'name':'bytedance','codeList':['bytedanceglobal_int'],'sname':'Bd'},\n",
    "    {'name':'facebook','codeList':['Social_facebook','restricted','Facebook Ads','facebook','FacebookAds'],'sname':'Fb'},\n",
    "    {'name':'google','codeList':['googleadwords_int'],'sname':'Gg'},\n",
    "    {'name':'unknown','codeList':[],'sname':'Og'}\n",
    "]"
   ]
  },
  {
   "cell_type": "code",
   "execution_count": null,
   "metadata": {},
   "outputs": [],
   "source": [
    "def mediaR7MapeByDay(mediaName,totalDf):\n",
    "    r7RealIndex = '%s revenue7(real)'%(mediaName)\n",
    "    r7RPredIndex = '%s revenue7(pred)'%(mediaName)\n",
    "    mape = pd.DataFrame({'mape':(totalDf[r7RealIndex] - totalDf[r7RPredIndex])/totalDf[r7RealIndex]})\n",
    "    mape.loc[mape.mape < 0,'mape'] *= -1\n",
    "    return mape['mape'].mean()"
   ]
  },
  {
   "cell_type": "code",
   "execution_count": null,
   "metadata": {},
   "outputs": [],
   "source": [
    "def mediaR7MapeByMonth(mediaName,totalDf):\n",
    "    r7RealIndex = '%s revenue7(real)'%(mediaName)\n",
    "    r7RPredIndex = '%s revenue7(pred)'%(mediaName)\n",
    "\n",
    "    totalDf.loc[:,'install_month'] = totalDf['install_date_group'].str.slice(0,7)\n",
    "    totalMpnthDf = totalDf.groupby(by=['install_month'],as_index=False).agg('sum')\n",
    "\n",
    "    # print(totalMpnthDf)\n",
    "\n",
    "    mape = pd.DataFrame({'mape':(totalMpnthDf[r7RealIndex] - totalMpnthDf[r7RPredIndex])/totalMpnthDf[r7RealIndex]})\n",
    "    mape.loc[mape.mape < 0,'mape'] *= -1\n",
    "    return mape['mape'].mean()"
   ]
  },
  {
   "cell_type": "code",
   "execution_count": null,
   "metadata": {},
   "outputs": [],
   "source": [
    "# 增长倍率 r7/r1\n",
    "def mediaP7MapeByDay(mediaName,totalDf):\n",
    "    r7RealIndex = '%s r7/r1(real)'%(mediaName)\n",
    "    r7RPredIndex = '%s r7/r1(pred)'%(mediaName)\n",
    "    mape = pd.DataFrame({'mape':(totalDf[r7RealIndex] - totalDf[r7RPredIndex])/totalDf[r7RealIndex]})\n",
    "    mape.loc[mape.mape < 0,'mape'] *= -1\n",
    "    return mape['mape'].mean()"
   ]
  },
  {
   "cell_type": "code",
   "execution_count": null,
   "metadata": {},
   "outputs": [],
   "source": [
    "def mediaP7MapeByMonth(mediaName,totalDf):\n",
    "    r7RealIndex = '%s r7/r1(real)'%(mediaName)\n",
    "    r7RPredIndex = '%s r7/r1(pred)'%(mediaName)\n",
    "\n",
    "    totalDf.loc[:,'install_month'] = totalDf['install_date_group'].str.slice(0,7)\n",
    "    totalMpnthDf = totalDf.groupby(by=['install_month'],as_index=False).agg('sum')\n",
    "\n",
    "    # print(totalMpnthDf)\n",
    "\n",
    "    mape = pd.DataFrame({'mape':(totalMpnthDf[r7RealIndex] - totalMpnthDf[r7RPredIndex])/totalMpnthDf[r7RealIndex]})\n",
    "    mape.loc[mape.mape < 0,'mape'] *= -1\n",
    "    return mape['mape'].mean()"
   ]
  },
  {
   "cell_type": "code",
   "execution_count": null,
   "metadata": {},
   "outputs": [],
   "source": [
    "# 媒体 首日 回收 的方差\n",
    "def mediaR1Var(mediaName,totalDf):\n",
    "    index = '%s revenue1(real)'%(mediaName)\n",
    "\n",
    "    return totalDf[index].var()"
   ]
  },
  {
   "cell_type": "code",
   "execution_count": null,
   "metadata": {},
   "outputs": [],
   "source": [
    "# 媒体 7日 回收 的方差\n",
    "def mediaR7Var(mediaName,totalDf):\n",
    "    index = '%s revenue7(real)'%(mediaName)\n",
    "\n",
    "    return totalDf[index].var()"
   ]
  },
  {
   "cell_type": "code",
   "execution_count": null,
   "metadata": {},
   "outputs": [],
   "source": [
    "# 媒体 首日 回收占比 的方差\n",
    "def mediaP1Var(mediaName,totalDf):\n",
    "    index = '%s revenue1(real)'%(mediaName)\n",
    "    p1 = totalDf[index]/totalDf['revenue1']\n",
    "    return p1.var()"
   ]
  },
  {
   "cell_type": "code",
   "execution_count": null,
   "metadata": {},
   "outputs": [],
   "source": [
    "# 媒体 7日 回收占比 的方差\n",
    "def mediaP7Var(mediaName,totalDf):\n",
    "    index = '%s revenue7(real)'%(mediaName)\n",
    "    p1 = totalDf[index]/totalDf['revenue7']\n",
    "    return p1.var()"
   ]
  },
  {
   "cell_type": "code",
   "execution_count": null,
   "metadata": {},
   "outputs": [],
   "source": [
    "# 由于要出iOS和android两种报告，媒体信息略有不同，需要将媒体列表当做参数\n",
    "def report(docDirname,mediaList):\n",
    "    totalDf = pd.read_csv(os.path.join(docDirname,'reportTotalDf.csv'))\n",
    "    # 计算首日回收总额\n",
    "    print(docDirname)\n",
    "    print('MAPE:%2f%%'%(totalDf['mape'].mean()))\n",
    "        \n",
    "    isIOS = False\n",
    "    for media in mediaList:\n",
    "        mediaName = media['name']\n",
    "        if '%s revenue1(real)'%(mediaName) not in totalDf.columns:\n",
    "            isIOS = True\n",
    "            break\n",
    "    \n",
    "    if isIOS == True:\n",
    "        # iOS 版本是没有首日付费金额的，只能用首日CV推算\n",
    "        for media in iosMediaList:\n",
    "            mediaName = media['name']\n",
    "            mediaDf = pd.read_csv(getFilename('step3_mediaSumDf_%s'%mediaName))\n",
    "            totalDf.loc[:,'%s revenue1(real)'%(mediaName)] = mediaDf['usd']\n",
    "\n",
    "    totalDf.loc[:,'revenue1'] = 0\n",
    "    for media in mediaList:\n",
    "        mediaName = media['name']\n",
    "        if '%s revenue1(real)'%(mediaName) not in totalDf.columns:\n",
    "            # iOS 版本是没有首日付费金额的，只能用首日CV推算\n",
    "            for media in iosMediaList:\n",
    "                mediaName = media['name']\n",
    "                mediaDf = pd.read_csv(getFilename('step3_mediaSumDf_%s'%mediaName))\n",
    "                totalDf.loc[:,'%s revenue1(real)'%(mediaName)] = mediaDf['usd']\n",
    "\n",
    "        totalDf.loc[:,'revenue1'] += totalDf['%s revenue1(real)'%(mediaName)]\n",
    "    # 分析各媒体的R7 MAPE 按天\n",
    "    for media in mediaList:\n",
    "        mediaName = media['name']\n",
    "        print(mediaName,':')\n",
    "        if isIOS == False:\n",
    "            print('%s r7 by day MAPE: %.2f%%'%('',mediaR7MapeByDay(mediaName,totalDf)*100))\n",
    "            print('%s r7 by month MAPE: %.2f%%'%('',mediaR7MapeByMonth(mediaName,totalDf)*100))\n",
    "            print('%s r7/r1 by day MAPE: %.2f%%'%('',mediaP7MapeByDay(mediaName,totalDf)*100))\n",
    "            print('%s r7/r1 by month MAPE: %.2f%%'%('',mediaP7MapeByMonth(mediaName,totalDf)*100))\n",
    "\n",
    "        print('%s r1 var by day: %.2f'%('',mediaR1Var(mediaName,totalDf)))\n",
    "        if isIOS == False:\n",
    "            print('%s r7 var by day: %.2f'%('',mediaR7Var(mediaName,totalDf)))\n",
    "\n",
    "        print('%s p1 var by day: %.4f'%('',mediaP1Var(mediaName,totalDf)))\n",
    "        if isIOS == False:\n",
    "            print('%s p7 var by day: %.4f'%('',mediaP7Var(mediaName,totalDf)))\n",
    "\n",
    "        \n",
    "        \n"
   ]
  },
  {
   "cell_type": "code",
   "execution_count": null,
   "metadata": {},
   "outputs": [],
   "source": [
    "# V1\n",
    "report('/src/data/doc/customLayer//iOSCustom_20230316_082543',mediaList)"
   ]
  },
  {
   "cell_type": "code",
   "execution_count": null,
   "metadata": {},
   "outputs": [],
   "source": [
    "# V1.1\n",
    "report('/src/data/doc/customLayer//iOSCustom_20230316_060009',mediaList)"
   ]
  },
  {
   "cell_type": "code",
   "execution_count": null,
   "metadata": {},
   "outputs": [],
   "source": [
    "# iOS V2\n",
    "report('/src/data/doc/customLayer//iOSCustom_20230316_103636',iosMediaList)"
   ]
  }
 ],
 "metadata": {
  "kernelspec": {
   "display_name": "Python 3.9.5 64-bit ('3.9.5')",
   "language": "python",
   "name": "python3"
  },
  "language_info": {
   "name": "python",
   "version": "3.9.5"
  },
  "orig_nbformat": 4,
  "vscode": {
   "interpreter": {
    "hash": "5ddbb1e7c0f5392e763e7ed0105eea523a83d8be62b40910beaeae08f4eab658"
   }
  }
 },
 "nbformat": 4,
 "nbformat_minor": 2
}
