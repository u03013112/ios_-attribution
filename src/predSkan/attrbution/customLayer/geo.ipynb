{
 "cells": [
  {
   "attachments": {},
   "cell_type": "markdown",
   "metadata": {},
   "source": [
    "# 尝试分媒体的前提下分国家\n",
    "\n",
    "主要难点是SKAN中无法区分国家，可能需要按照campaign来做区分\n",
    "即将原有的按媒体进行分开的部分，变为按campaign进行区分\n",
    "\n",
    "> 尝试方案\n",
    ">> 方案1，直接将campaign并入到总模型中，也就是将google变为googleUs+googleOther\n",
    ">> 方案2，用之前方案的媒体结论作为此模型的最终结果\n",
    "\n",
    "可能最终需要考虑方案2"
   ]
  },
  {
   "cell_type": "code",
   "execution_count": null,
   "metadata": {},
   "outputs": [],
   "source": []
  }
 ],
 "metadata": {
  "language_info": {
   "name": "python"
  },
  "orig_nbformat": 4
 },
 "nbformat": 4,
 "nbformat_minor": 2
}
