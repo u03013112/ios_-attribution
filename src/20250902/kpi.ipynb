{
 "cells": [
  {
   "cell_type": "code",
   "execution_count": 0,
   "metadata": {
    "application/vnd.databricks.v1+cell": {
     "cellMetadata": {
      "byteLimit": 2048000,
      "rowLimit": 10000
     },
     "inputWidgets": {},
     "nuid": "1086c0a3-1c64-496c-9238-ec0dce25aa5b",
     "showTitle": false,
     "tableResultSettingsMap": {},
     "title": ""
    }
   },
   "outputs": [],
   "source": [
    "USE data_science.default"
   ]
  },
  {
   "cell_type": "code",
   "execution_count": 0,
   "metadata": {
    "application/vnd.databricks.v1+cell": {
     "cellMetadata": {
      "byteLimit": 2048000,
      "rowLimit": 10000
     },
     "inputWidgets": {},
     "nuid": "8de61c8f-a7c4-4810-bdb3-432b7e7006ff",
     "showTitle": false,
     "tableResultSettingsMap": {},
     "title": ""
    }
   },
   "outputs": [],
   "source": [
    "CREATE OR REPLACE TABLE lw_20250903_kpi_table_by_j as\n",
    "with growth as (\n",
    "  select\n",
    "  app_package,\n",
    "  country_group,\n",
    "  mediasource,\n",
    "  tag,\n",
    "  install_day,\n",
    "  p_r14_r7 * p_r30_r14 * p_r60_r30 * p_r90_r60 * p_r120_r90 as p_r120_r7,\n",
    "  p_r14_r7 * p_r30_r14 * p_r60_r30 * p_r90_r60 * p_r120_r90 * p_r135_r120 as p_r135_r7\n",
    "  from lw_20250903_predict_revenue_growth_rate_view_by_j\n",
    "),\n",
    "kpi_target as (\n",
    "  select\n",
    "    app_package,\n",
    "    country_group,\n",
    "    mediasource,\n",
    "    install_day,\n",
    "    kpi_target\n",
    "  from lw_20250903_kpi_target_table_by_j\n",
    ")\n",
    "select\n",
    "growth.app_package,\n",
    "growth.country_group,\n",
    "growth.mediasource,\n",
    "growth.tag,\n",
    "growth.install_day,\n",
    "kpi_target.kpi_target/growth.p_r120_r7 as kpi7_120,\n",
    "kpi_target.kpi_target/growth.p_r135_r7 as kpi7_135\n",
    "from growth\n",
    "left join kpi_target\n",
    "on growth.app_package = kpi_target.app_package\n",
    "and growth.country_group = kpi_target.country_group\n",
    "and growth.mediasource = kpi_target.mediasource\n",
    "and growth.install_day = kpi_target.install_day\n",
    "where\n",
    "growth.tag in (\n",
    "  'aos_gpir_cohort_raw_avg28','aos_gpir_cohort_raw_avg56','aos_gpir_cohort_raw_avg84',\n",
    "  'aos_gpir_cohort_raw_ema28','aos_gpir_cohort_raw_ema56','aos_gpir_cohort_raw_ema84',\n",
    "  'ios_af_cohort_raw_avg28','ios_af_cohort_raw_avg56','ios_af_cohort_raw_avg84',\n",
    "  'ios_af_cohort_raw_ema28','ios_af_cohort_raw_ema56','ios_af_cohort_raw_ema84'\n",
    ")\n",
    ";\n"
   ]
  },
  {
   "cell_type": "markdown",
   "metadata": {
    "application/vnd.databricks.v1+cell": {
     "cellMetadata": {},
     "inputWidgets": {},
     "nuid": "9d26fdf9-d50b-4c39-9c7a-72086586e527",
     "showTitle": false,
     "tableResultSettingsMap": {},
     "title": ""
    }
   },
   "source": [
    "计算自然量,暂时只用aos_gpir_cohort_raw_ema84和20250808_20_ema84进行计算，差距不大。"
   ]
  },
  {
   "cell_type": "code",
   "execution_count": 0,
   "metadata": {
    "application/vnd.databricks.v1+cell": {
     "cellMetadata": {
      "byteLimit": 2048000,
      "rowLimit": 10000
     },
     "inputWidgets": {},
     "nuid": "47c7fa84-921f-4bd1-8b39-09ff817c6486",
     "showTitle": false,
     "tableResultSettingsMap": {},
     "title": ""
    }
   },
   "outputs": [],
   "source": [
    "create or replace table lw_20250903_kpi_organic_revenue_rate_view_by_j as\n",
    "WITH daily_revenue AS (\n",
    "  SELECT  \n",
    "    app_package,  \n",
    "    country_group,  \n",
    "    tag,  \n",
    "    install_day,\n",
    "    SUM(CASE WHEN mediasource = 'Organic' THEN revenue_d120 ELSE 0 END) AS organic_revenue,\n",
    "    SUM(revenue_d120) AS total_revenue\n",
    "  FROM lw_20250903_real_and_predict_revenue_table_by_j  \n",
    "  WHERE tag IN ('aos_gpir_cohort_raw_ema84', '20250808_20_ema84')\n",
    "  GROUP BY app_package, country_group, tag, install_day\n",
    "),\n",
    "rolling_30day_calc AS (\n",
    "  SELECT\n",
    "    app_package,\n",
    "    country_group,\n",
    "    tag,\n",
    "    install_day,\n",
    "    SUM(organic_revenue) \n",
    "      OVER (\n",
    "        PARTITION BY app_package, country_group, tag\n",
    "        ORDER BY install_day\n",
    "        ROWS BETWEEN 29 PRECEDING AND CURRENT ROW\n",
    "      ) AS organic_revenue_30d,\n",
    "    SUM(total_revenue) \n",
    "      OVER (\n",
    "        PARTITION BY app_package, country_group, tag\n",
    "        ORDER BY install_day\n",
    "        ROWS BETWEEN 29 PRECEDING AND CURRENT ROW\n",
    "      ) AS total_revenue_30d\n",
    "  FROM daily_revenue\n",
    ")\n",
    "SELECT\n",
    "  app_package,\n",
    "  country_group,\n",
    "  tag,\n",
    "  install_day,\n",
    "  CASE \n",
    "    WHEN total_revenue_30d > 0 \n",
    "    THEN organic_revenue_30d / total_revenue_30d \n",
    "    ELSE NULL \n",
    "  END AS organic_ratio\n",
    "FROM rolling_30day_calc\n",
    "ORDER BY \n",
    "  app_package,\n",
    "  country_group,\n",
    "  tag,\n",
    "  install_day DESC;"
   ]
  },
  {
   "cell_type": "code",
   "execution_count": 0,
   "metadata": {
    "application/vnd.databricks.v1+cell": {
     "cellMetadata": {
      "byteLimit": 2048000,
      "rowLimit": 10000
     },
     "inputWidgets": {},
     "nuid": "5f9402b3-2331-43cb-b14d-074c894c31c6",
     "showTitle": false,
     "tableResultSettingsMap": {},
     "title": ""
    }
   },
   "outputs": [],
   "source": [
    "-- 含自然量KPI\n",
    "create or replace table lw_20250903_o_kpi_table_by_j as\n",
    "select\n",
    "  k.app_package,\n",
    "  k.country_group,\n",
    "  k.mediasource,\n",
    "  k.tag,\n",
    "  k.install_day,\n",
    "  k.kpi7_120,\n",
    "  k.kpi7_135,\n",
    "  o.organic_ratio,\n",
    "  try_divide( k.kpi7_120,(1-o.organic_ratio)) as o_kpi7_120,\n",
    "  try_divide( k.kpi7_135,(1-o.organic_ratio)) as o_kpi7_135\n",
    "from lw_20250903_kpi_table_by_j k\n",
    "left join lw_20250903_kpi_organic_revenue_rate_view_by_j o\n",
    "on k.app_package = o.app_package\n",
    "and k.country_group = o.country_group\n",
    "and k.install_day = o.install_day\n",
    "\n",
    "\n",
    "\n",
    "\n"
   ]
  },
  {
   "cell_type": "code",
   "execution_count": 0,
   "metadata": {
    "application/vnd.databricks.v1+cell": {
     "cellMetadata": {
      "byteLimit": 2048000,
      "rowLimit": 10000
     },
     "inputWidgets": {},
     "nuid": "9d3db5f4-ce75-4b9f-8b27-4b59e6106df0",
     "showTitle": false,
     "tableResultSettingsMap": {},
     "title": ""
    }
   },
   "outputs": [],
   "source": [
    "-- 获取每天最小和最大kpi\n",
    "create or replace table lw_20250903_kpi_table_min_max_by_j as\n",
    "select\n",
    "  app_package,\n",
    "  country_group,\n",
    "  mediasource,\n",
    "  install_day,\n",
    "  min(o_kpi7_120) as min_o_kpi7_120,\n",
    "  max(o_kpi7_120) as max_o_kpi7_120,\n",
    "  min(o_kpi7_135) as min_o_kpi7_135,\n",
    "  max(o_kpi7_135) as max_o_kpi7_135\n",
    "from (\n",
    "  select\n",
    "    app_package,\n",
    "    country_group,\n",
    "    mediasource,\n",
    "    tag,\n",
    "    install_day,\n",
    "    kpi7_120,\n",
    "    o_kpi7_120,\n",
    "    kpi7_135,\n",
    "    o_kpi7_135\n",
    "  from lw_20250903_o_kpi_table_by_j\n",
    "  where kpi7_120 is not null\n",
    ") subquery\n",
    "group by app_package, country_group, mediasource, install_day"
   ]
  }
 ],
 "metadata": {
  "application/vnd.databricks.v1+notebook": {
   "computePreferences": null,
   "dashboards": [],
   "environmentMetadata": {
    "base_environment": "",
    "environment_version": "3"
   },
   "inputWidgetPreferences": null,
   "language": "sql",
   "notebookMetadata": {
    "pythonIndentUnit": 4
   },
   "notebookName": "kpi",
   "widgets": {}
  },
  "language_info": {
   "name": "sql"
  }
 },
 "nbformat": 4,
 "nbformat_minor": 0
}
